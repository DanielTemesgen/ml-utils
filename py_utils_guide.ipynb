{
 "cells": [
  {
   "cell_type": "markdown",
   "metadata": {},
   "source": [
    "# py-utils guide"
   ]
  },
  {
   "cell_type": "markdown",
   "metadata": {},
   "source": [
    "First let's import py_utils"
   ]
  },
  {
   "cell_type": "code",
   "execution_count": 647,
   "metadata": {},
   "outputs": [],
   "source": [
    "import py_utils"
   ]
  },
  {
   "cell_type": "markdown",
   "metadata": {},
   "source": [
    "Running the function below gives us the ability to hide code cells in jupyter notebook. <br>\n",
    "This can be helpful when presenting."
   ]
  },
  {
   "cell_type": "code",
   "execution_count": 648,
   "metadata": {},
   "outputs": [
    {
     "data": {
      "text/html": [
       "<script>\n",
       "    code_show=false; \n",
       "    function code_toggle() {\n",
       "     if (code_show){\n",
       "     $('div.input').hide();\n",
       "     } else {\n",
       "     $('div.input').show();\n",
       "     }\n",
       "     code_show = !code_show\n",
       "    } \n",
       "    $( document ).ready(code_toggle);\n",
       "    </script>\n",
       "    The code for this jupyter notebook has been hidden by default for easier reading.\n",
       "    To toggle on/off the code, click <a href=\"javascript:code_toggle()\">here</a>."
      ],
      "text/plain": [
       "<IPython.core.display.HTML object>"
      ]
     },
     "metadata": {},
     "output_type": "display_data"
    }
   ],
   "source": [
    "py_utils.hide_code_cells()"
   ]
  },
  {
   "cell_type": "markdown",
   "metadata": {},
   "source": [
    "## Model Building"
   ]
  },
  {
   "cell_type": "markdown",
   "metadata": {},
   "source": [
    "To explore how to use the model utils let's quickly make a test model. <br>\n",
    "Firstly, import some more packages."
   ]
  },
  {
   "cell_type": "code",
   "execution_count": 649,
   "metadata": {},
   "outputs": [],
   "source": [
    "import os\n",
    "import numpy as np\n",
    "import pandas as pd\n",
    "import seaborn as sns\n",
    "from sklearn.pipeline import make_pipeline\n",
    "from sklearn.datasets import make_classification, load_iris"
   ]
  },
  {
   "cell_type": "markdown",
   "metadata": {},
   "source": [
    "Let's make a fake numeric dataset for the purpose of our examples.\n",
    "\n",
    "We'll do this by using scikit-learn's helpful `make_classification` function.\n",
    "\n",
    "<mark>You can 'unpack' arguments into a function via a dictionary using the `**` notation (see below).</mark>"
   ]
  },
  {
   "cell_type": "code",
   "execution_count": 650,
   "metadata": {},
   "outputs": [],
   "source": [
    "make_classification_dict = {'n_samples': 100000, 'n_features': 50}\n",
    "\n",
    "sample_data =  make_classification(**make_classification_dict)"
   ]
  },
  {
   "cell_type": "markdown",
   "metadata": {},
   "source": [
    "Let's look at our X:"
   ]
  },
  {
   "cell_type": "code",
   "execution_count": 651,
   "metadata": {},
   "outputs": [
    {
     "data": {
      "text/html": [
       "<div>\n",
       "<style scoped>\n",
       "    .dataframe tbody tr th:only-of-type {\n",
       "        vertical-align: middle;\n",
       "    }\n",
       "\n",
       "    .dataframe tbody tr th {\n",
       "        vertical-align: top;\n",
       "    }\n",
       "\n",
       "    .dataframe thead th {\n",
       "        text-align: right;\n",
       "    }\n",
       "</style>\n",
       "<table border=\"1\" class=\"dataframe\">\n",
       "  <thead>\n",
       "    <tr style=\"text-align: right;\">\n",
       "      <th></th>\n",
       "      <th>0</th>\n",
       "      <th>1</th>\n",
       "      <th>2</th>\n",
       "      <th>3</th>\n",
       "      <th>4</th>\n",
       "      <th>5</th>\n",
       "      <th>6</th>\n",
       "      <th>7</th>\n",
       "      <th>8</th>\n",
       "      <th>9</th>\n",
       "      <th>...</th>\n",
       "      <th>40</th>\n",
       "      <th>41</th>\n",
       "      <th>42</th>\n",
       "      <th>43</th>\n",
       "      <th>44</th>\n",
       "      <th>45</th>\n",
       "      <th>46</th>\n",
       "      <th>47</th>\n",
       "      <th>48</th>\n",
       "      <th>49</th>\n",
       "    </tr>\n",
       "  </thead>\n",
       "  <tbody>\n",
       "    <tr>\n",
       "      <th>0</th>\n",
       "      <td>1.819823</td>\n",
       "      <td>0.097565</td>\n",
       "      <td>-1.757625</td>\n",
       "      <td>1.227868</td>\n",
       "      <td>0.131023</td>\n",
       "      <td>0.426952</td>\n",
       "      <td>-0.901286</td>\n",
       "      <td>-0.146374</td>\n",
       "      <td>0.144019</td>\n",
       "      <td>-1.730063</td>\n",
       "      <td>...</td>\n",
       "      <td>0.608063</td>\n",
       "      <td>0.373808</td>\n",
       "      <td>0.212106</td>\n",
       "      <td>-0.480824</td>\n",
       "      <td>0.306803</td>\n",
       "      <td>0.541224</td>\n",
       "      <td>1.113348</td>\n",
       "      <td>0.371633</td>\n",
       "      <td>-1.794812</td>\n",
       "      <td>-0.819101</td>\n",
       "    </tr>\n",
       "    <tr>\n",
       "      <th>1</th>\n",
       "      <td>0.522197</td>\n",
       "      <td>0.151296</td>\n",
       "      <td>1.289466</td>\n",
       "      <td>-1.160126</td>\n",
       "      <td>0.129245</td>\n",
       "      <td>0.599367</td>\n",
       "      <td>0.100735</td>\n",
       "      <td>-0.569687</td>\n",
       "      <td>-1.026696</td>\n",
       "      <td>1.189401</td>\n",
       "      <td>...</td>\n",
       "      <td>-0.801043</td>\n",
       "      <td>0.519837</td>\n",
       "      <td>1.985378</td>\n",
       "      <td>0.870569</td>\n",
       "      <td>-0.361663</td>\n",
       "      <td>0.991291</td>\n",
       "      <td>-0.187126</td>\n",
       "      <td>-0.725366</td>\n",
       "      <td>0.151034</td>\n",
       "      <td>-1.352145</td>\n",
       "    </tr>\n",
       "    <tr>\n",
       "      <th>2</th>\n",
       "      <td>-1.997706</td>\n",
       "      <td>-0.353547</td>\n",
       "      <td>0.878651</td>\n",
       "      <td>-0.784361</td>\n",
       "      <td>-1.102551</td>\n",
       "      <td>0.035339</td>\n",
       "      <td>0.530357</td>\n",
       "      <td>-0.415905</td>\n",
       "      <td>0.624581</td>\n",
       "      <td>-1.543561</td>\n",
       "      <td>...</td>\n",
       "      <td>-1.413638</td>\n",
       "      <td>-1.951667</td>\n",
       "      <td>-0.192065</td>\n",
       "      <td>-0.166177</td>\n",
       "      <td>-0.111217</td>\n",
       "      <td>-0.077342</td>\n",
       "      <td>-2.155042</td>\n",
       "      <td>0.265217</td>\n",
       "      <td>0.731313</td>\n",
       "      <td>2.069130</td>\n",
       "    </tr>\n",
       "    <tr>\n",
       "      <th>3</th>\n",
       "      <td>0.511898</td>\n",
       "      <td>0.243341</td>\n",
       "      <td>2.651493</td>\n",
       "      <td>-0.827056</td>\n",
       "      <td>0.114937</td>\n",
       "      <td>-0.061088</td>\n",
       "      <td>0.278560</td>\n",
       "      <td>0.504284</td>\n",
       "      <td>0.840692</td>\n",
       "      <td>-0.881697</td>\n",
       "      <td>...</td>\n",
       "      <td>-2.079124</td>\n",
       "      <td>0.289213</td>\n",
       "      <td>0.209501</td>\n",
       "      <td>-0.375945</td>\n",
       "      <td>0.460960</td>\n",
       "      <td>0.409314</td>\n",
       "      <td>0.044036</td>\n",
       "      <td>-2.207479</td>\n",
       "      <td>0.359103</td>\n",
       "      <td>0.175793</td>\n",
       "    </tr>\n",
       "    <tr>\n",
       "      <th>4</th>\n",
       "      <td>0.591561</td>\n",
       "      <td>-1.614747</td>\n",
       "      <td>-0.991083</td>\n",
       "      <td>-0.850550</td>\n",
       "      <td>-0.053781</td>\n",
       "      <td>0.204666</td>\n",
       "      <td>-0.202397</td>\n",
       "      <td>-0.203307</td>\n",
       "      <td>0.473752</td>\n",
       "      <td>1.008277</td>\n",
       "      <td>...</td>\n",
       "      <td>0.295646</td>\n",
       "      <td>0.734089</td>\n",
       "      <td>1.383470</td>\n",
       "      <td>-0.339204</td>\n",
       "      <td>1.356450</td>\n",
       "      <td>0.588089</td>\n",
       "      <td>0.065331</td>\n",
       "      <td>-1.344490</td>\n",
       "      <td>-1.292817</td>\n",
       "      <td>0.478965</td>\n",
       "    </tr>\n",
       "  </tbody>\n",
       "</table>\n",
       "<p>5 rows × 50 columns</p>\n",
       "</div>"
      ],
      "text/plain": [
       "         0         1         2         3         4         5         6   \\\n",
       "0  1.819823  0.097565 -1.757625  1.227868  0.131023  0.426952 -0.901286   \n",
       "1  0.522197  0.151296  1.289466 -1.160126  0.129245  0.599367  0.100735   \n",
       "2 -1.997706 -0.353547  0.878651 -0.784361 -1.102551  0.035339  0.530357   \n",
       "3  0.511898  0.243341  2.651493 -0.827056  0.114937 -0.061088  0.278560   \n",
       "4  0.591561 -1.614747 -0.991083 -0.850550 -0.053781  0.204666 -0.202397   \n",
       "\n",
       "         7         8         9   ...        40        41        42        43  \\\n",
       "0 -0.146374  0.144019 -1.730063  ...  0.608063  0.373808  0.212106 -0.480824   \n",
       "1 -0.569687 -1.026696  1.189401  ... -0.801043  0.519837  1.985378  0.870569   \n",
       "2 -0.415905  0.624581 -1.543561  ... -1.413638 -1.951667 -0.192065 -0.166177   \n",
       "3  0.504284  0.840692 -0.881697  ... -2.079124  0.289213  0.209501 -0.375945   \n",
       "4 -0.203307  0.473752  1.008277  ...  0.295646  0.734089  1.383470 -0.339204   \n",
       "\n",
       "         44        45        46        47        48        49  \n",
       "0  0.306803  0.541224  1.113348  0.371633 -1.794812 -0.819101  \n",
       "1 -0.361663  0.991291 -0.187126 -0.725366  0.151034 -1.352145  \n",
       "2 -0.111217 -0.077342 -2.155042  0.265217  0.731313  2.069130  \n",
       "3  0.460960  0.409314  0.044036 -2.207479  0.359103  0.175793  \n",
       "4  1.356450  0.588089  0.065331 -1.344490 -1.292817  0.478965  \n",
       "\n",
       "[5 rows x 50 columns]"
      ]
     },
     "execution_count": 651,
     "metadata": {},
     "output_type": "execute_result"
    }
   ],
   "source": [
    "X = pd.DataFrame(sample_data[0]).fillna(np.median)\n",
    "X.head()"
   ]
  },
  {
   "cell_type": "markdown",
   "metadata": {},
   "source": [
    "Let's look at our y: <br>\n",
    "<mark>You can continue code onto the next line with `\\` (see below)</mark>"
   ]
  },
  {
   "cell_type": "code",
   "execution_count": 652,
   "metadata": {},
   "outputs": [
    {
     "data": {
      "text/html": [
       "<div>\n",
       "<style scoped>\n",
       "    .dataframe tbody tr th:only-of-type {\n",
       "        vertical-align: middle;\n",
       "    }\n",
       "\n",
       "    .dataframe tbody tr th {\n",
       "        vertical-align: top;\n",
       "    }\n",
       "\n",
       "    .dataframe thead th {\n",
       "        text-align: right;\n",
       "    }\n",
       "</style>\n",
       "<table border=\"1\" class=\"dataframe\">\n",
       "  <thead>\n",
       "    <tr style=\"text-align: right;\">\n",
       "      <th></th>\n",
       "      <th>0</th>\n",
       "    </tr>\n",
       "  </thead>\n",
       "  <tbody>\n",
       "    <tr>\n",
       "      <th>0</th>\n",
       "      <td>1</td>\n",
       "    </tr>\n",
       "    <tr>\n",
       "      <th>1</th>\n",
       "      <td>1</td>\n",
       "    </tr>\n",
       "    <tr>\n",
       "      <th>2</th>\n",
       "      <td>0</td>\n",
       "    </tr>\n",
       "    <tr>\n",
       "      <th>3</th>\n",
       "      <td>0</td>\n",
       "    </tr>\n",
       "    <tr>\n",
       "      <th>4</th>\n",
       "      <td>1</td>\n",
       "    </tr>\n",
       "  </tbody>\n",
       "</table>\n",
       "</div>"
      ],
      "text/plain": [
       "   0\n",
       "0  1\n",
       "1  1\n",
       "2  0\n",
       "3  0\n",
       "4  1"
      ]
     },
     "execution_count": 652,
     "metadata": {},
     "output_type": "execute_result"
    }
   ],
   "source": [
    "y = pd.Series(sample_data[1])\\\n",
    ".to_frame()\n",
    "y.head()"
   ]
  },
  {
   "cell_type": "code",
   "execution_count": 653,
   "metadata": {
    "hidden": true
   },
   "outputs": [],
   "source": [
    "from sklearn.model_selection import train_test_split\n",
    "X_train, X_test, y_train, y_test = train_test_split(X, y, stratify = y)"
   ]
  },
  {
   "cell_type": "markdown",
   "metadata": {
    "hidden": true
   },
   "source": [
    "Now let's say we want to apply a logistic regression model."
   ]
  },
  {
   "cell_type": "code",
   "execution_count": 654,
   "metadata": {
    "hidden": true
   },
   "outputs": [
    {
     "data": {
      "text/plain": [
       "LogisticRegression(C=1.0, class_weight=None, dual=False, fit_intercept=True,\n",
       "          intercept_scaling=1, max_iter=100, multi_class='warn',\n",
       "          n_jobs=None, penalty='l2', random_state=None, solver='lbfgs',\n",
       "          tol=0.0001, verbose=0, warm_start=False)"
      ]
     },
     "execution_count": 654,
     "metadata": {},
     "output_type": "execute_result"
    }
   ],
   "source": [
    "from sklearn.linear_model import LogisticRegression\n",
    "logreg = LogisticRegression(solver='lbfgs')\n",
    "logreg.fit(X_train, y_train.values.ravel())"
   ]
  },
  {
   "cell_type": "code",
   "execution_count": 655,
   "metadata": {
    "hidden": true
   },
   "outputs": [
    {
     "data": {
      "text/plain": [
       "0.90484"
      ]
     },
     "execution_count": 655,
     "metadata": {},
     "output_type": "execute_result"
    }
   ],
   "source": [
    "logreg.score(X_test, y_test)"
   ]
  },
  {
   "cell_type": "markdown",
   "metadata": {},
   "source": [
    "### Model Saving"
   ]
  },
  {
   "cell_type": "code",
   "execution_count": 656,
   "metadata": {},
   "outputs": [],
   "source": [
    "mkdir Models"
   ]
  },
  {
   "cell_type": "markdown",
   "metadata": {},
   "source": [
    "Let's save the model, the function assumes that we have a 'Models' subfolder so we have one created here. <br>\n",
    "We need to define the following things for this function:\n",
    "* `model_name` = the root name of the model we want to save.\n",
    "* `model_var` = the model variable we want to save.\n",
    "* `subfolder` = optional subfolder we want to use, we don't need it here so let's leave it as an empty string.\n",
    "* `wd` = working directory, the main working directory of our project."
   ]
  },
  {
   "cell_type": "code",
   "execution_count": 657,
   "metadata": {},
   "outputs": [],
   "source": [
    "py_utils.dump_diff_model(model_name='my_model', model_var=logreg, subfolder='', wd = os.getcwd())"
   ]
  },
  {
   "cell_type": "markdown",
   "metadata": {},
   "source": [
    "Let's see this file, which is saved below."
   ]
  },
  {
   "cell_type": "code",
   "execution_count": 658,
   "metadata": {},
   "outputs": [
    {
     "data": {
      "text/plain": [
       "['my_model_2019-07-22 23:50:11.724130.joblib']"
      ]
     },
     "execution_count": 658,
     "metadata": {},
     "output_type": "execute_result"
    }
   ],
   "source": [
    "[x for x in os.listdir(os.path.join(os.getcwd(), 'Models')) if x.endswith('.joblib')]"
   ]
  },
  {
   "cell_type": "markdown",
   "metadata": {},
   "source": [
    "Now let's try and save it again and check the output."
   ]
  },
  {
   "cell_type": "code",
   "execution_count": 659,
   "metadata": {},
   "outputs": [],
   "source": [
    "py_utils.dump_diff_model(model_name='my_model', model_var=logreg, subfolder='', wd = os.getcwd())"
   ]
  },
  {
   "cell_type": "code",
   "execution_count": 660,
   "metadata": {},
   "outputs": [
    {
     "data": {
      "text/plain": [
       "['my_model_2019-07-22 23:50:11.724130.joblib']"
      ]
     },
     "execution_count": 660,
     "metadata": {},
     "output_type": "execute_result"
    }
   ],
   "source": [
    "[x for x in os.listdir(os.path.join(os.getcwd(), 'Models')) if x.endswith('.joblib')]"
   ]
  },
  {
   "cell_type": "markdown",
   "metadata": {},
   "source": [
    "We can see that nothing has saved! <br>\n",
    "This is because we are trying to save the same model twice."
   ]
  },
  {
   "cell_type": "markdown",
   "metadata": {},
   "source": [
    "Now let's try and save a different model with the same name 'my_model'. <br>\n",
    "Let's say we want to change Logistic Regression solver."
   ]
  },
  {
   "cell_type": "code",
   "execution_count": 661,
   "metadata": {},
   "outputs": [
    {
     "data": {
      "text/plain": [
       "LogisticRegression(C=1.0, class_weight=None, dual=False, fit_intercept=True,\n",
       "          intercept_scaling=1, max_iter=100, multi_class='warn',\n",
       "          n_jobs=None, penalty='l2', random_state=None, solver='saga',\n",
       "          tol=0.0001, verbose=0, warm_start=False)"
      ]
     },
     "execution_count": 661,
     "metadata": {},
     "output_type": "execute_result"
    }
   ],
   "source": [
    "logreg = LogisticRegression(solver='saga')\n",
    "logreg.fit(X_train, y_train.values.ravel())"
   ]
  },
  {
   "cell_type": "code",
   "execution_count": 662,
   "metadata": {},
   "outputs": [
    {
     "data": {
      "text/plain": [
       "0.90484"
      ]
     },
     "execution_count": 662,
     "metadata": {},
     "output_type": "execute_result"
    }
   ],
   "source": [
    "logreg.score(X_test, y_test)"
   ]
  },
  {
   "cell_type": "markdown",
   "metadata": {},
   "source": [
    "We've now changed the solver from 'lbfgs' to 'saga', now let's try and save this different model."
   ]
  },
  {
   "cell_type": "code",
   "execution_count": 663,
   "metadata": {},
   "outputs": [],
   "source": [
    "py_utils.dump_diff_model(model_name='my_model', model_var=logreg, subfolder='', wd = os.getcwd())"
   ]
  },
  {
   "cell_type": "code",
   "execution_count": 664,
   "metadata": {},
   "outputs": [
    {
     "data": {
      "text/plain": [
       "['my_model_2019-07-22 23:50:11.724130.joblib',\n",
       " 'my_model_2019-07-22 23:50:14.303373.joblib']"
      ]
     },
     "execution_count": 664,
     "metadata": {},
     "output_type": "execute_result"
    }
   ],
   "source": [
    "[x for x in os.listdir(os.path.join(os.getcwd(), 'Models')) if x.endswith('.joblib')]"
   ]
  },
  {
   "cell_type": "markdown",
   "metadata": {},
   "source": [
    "We can see that this new model has been saved. <br>\n",
    "This is because it is different from the most recent version of that model as defined by its timestamp."
   ]
  },
  {
   "cell_type": "markdown",
   "metadata": {},
   "source": [
    "Let's look at the docstring for this function."
   ]
  },
  {
   "cell_type": "code",
   "execution_count": 665,
   "metadata": {},
   "outputs": [
    {
     "name": "stdout",
     "output_type": "stream",
     "text": [
      "Help on function dump_diff_model in module py_utils:\n",
      "\n",
      "dump_diff_model(model_name, model_var, wd, subfolder='')\n",
      "    This function will dump your model with a unique timestamp associated with it.\n",
      "    First it will check if the most recent model is the same as the one you're trying to dump, \n",
      "    if this is case then the funciton will do nothing.\n",
      "    \n",
      "    Example:\n",
      "    Let's say you want to dump a model called log_reg. You want to dump this file with the name 'master_model'.\n",
      "    \n",
      "    py_utils.dump_diff_model(name = 'master_model', log_reg, wd = \"/Users/Daniel/Desktop/Projects/First_Project/\")\n",
      "    \n",
      "    Args:\n",
      "    model_mame (str): the name you want to give the model you're dumping.\n",
      "    model_var: the actual model itself.\n",
      "    wd (str): your working directory, the function will look in the /Models subfolder of this working directory.\n",
      "\n"
     ]
    }
   ],
   "source": [
    "help(py_utils.dump_diff_model)"
   ]
  },
  {
   "cell_type": "markdown",
   "metadata": {},
   "source": [
    "### Model Loading"
   ]
  },
  {
   "cell_type": "markdown",
   "metadata": {},
   "source": [
    "Now we know how to save models, let's see how we load them. <br>\n",
    "First let's import out necessary package."
   ]
  },
  {
   "cell_type": "code",
   "execution_count": 666,
   "metadata": {},
   "outputs": [],
   "source": [
    "import joblib"
   ]
  },
  {
   "cell_type": "markdown",
   "metadata": {},
   "source": [
    "Let's use another one of these util functions: most_recent_model() <br>\n",
    "Very simply, it returns the path of the most recent model in a directory (based on the timestamp).\n",
    "\n",
    "Let's see what we define for this function:\n",
    "* `model_name` = the root name of the model we want to save.\n",
    "* `wd` = working directory, the main working directory of our project.\n",
    "* `subfolder` = optional subfolder we want to use, we don't need it here so let's leave it as an empty string."
   ]
  },
  {
   "cell_type": "markdown",
   "metadata": {},
   "source": [
    "We get more help by inspecting the docstring for this function below."
   ]
  },
  {
   "cell_type": "code",
   "execution_count": 667,
   "metadata": {},
   "outputs": [
    {
     "name": "stdout",
     "output_type": "stream",
     "text": [
      "Help on function most_recent_model in module py_utils:\n",
      "\n",
      "most_recent_model(model_name, wd, subfolder)\n",
      "    This function finds the name of the most recent model from the file directory.\n",
      "    It's a companion function to the dunp_diff_model function.\n",
      "    \n",
      "    Example:\n",
      "    If you had a model called 'log_reg' that was saved at this timestamp: '2019-05-21 12/04/54.815294'.\n",
      "    The filename would be 'log_reg 2019-06-21 12/04/54.875304.joblib' and the root would be 'log_reg'.\n",
      "    \n",
      "    log_reg = load(py_utils.most_recent_model(model_name = 'log_reg', wd = \"/Users/Daniel/Desktop/Projects/First_Project/\"))\n",
      "    \n",
      "    Args:\n",
      "    model_name (str): the name of the model you want to find the most recent version of.\n",
      "    wd (str): your working directory, the function will look in the /Models subfolder of this working directory\n",
      "    \n",
      "    Returns:\n",
      "    most_recent_model_path (str): the filepath of your most recent model\n",
      "\n"
     ]
    }
   ],
   "source": [
    "help(py_utils.most_recent_model)"
   ]
  },
  {
   "cell_type": "code",
   "execution_count": 668,
   "metadata": {},
   "outputs": [
    {
     "data": {
      "text/plain": [
       "'/Users/Daniel/Desktop/GitHub_Repos/ml-utils/Models/my_model_2019-07-22 23:50:14.303373.joblib'"
      ]
     },
     "execution_count": 668,
     "metadata": {},
     "output_type": "execute_result"
    }
   ],
   "source": [
    "model_to_load = py_utils.most_recent_model(model_name = 'my_model', wd = os.getcwd(), subfolder='')\n",
    "model_to_load"
   ]
  },
  {
   "cell_type": "markdown",
   "metadata": {},
   "source": [
    "Here we see the path above. <br>\n",
    "Now let's import this model."
   ]
  },
  {
   "cell_type": "code",
   "execution_count": 669,
   "metadata": {},
   "outputs": [],
   "source": [
    "logreg = joblib.load(model_to_load)"
   ]
  },
  {
   "cell_type": "code",
   "execution_count": 670,
   "metadata": {},
   "outputs": [
    {
     "data": {
      "text/plain": [
       "LogisticRegression(C=1.0, class_weight=None, dual=False, fit_intercept=True,\n",
       "          intercept_scaling=1, max_iter=100, multi_class='warn',\n",
       "          n_jobs=None, penalty='l2', random_state=None, solver='saga',\n",
       "          tol=0.0001, verbose=0, warm_start=False)"
      ]
     },
     "execution_count": 670,
     "metadata": {},
     "output_type": "execute_result"
    }
   ],
   "source": [
    "logreg"
   ]
  },
  {
   "cell_type": "markdown",
   "metadata": {},
   "source": [
    "We see above that we successfully imported this model."
   ]
  },
  {
   "cell_type": "markdown",
   "metadata": {},
   "source": [
    "### Sensitivity Analysis"
   ]
  },
  {
   "cell_type": "markdown",
   "metadata": {},
   "source": [
    "Now let's go through the sensitivity analysis function, this involves: <br>\n",
    "\"... the study of how the uncertainty in the output of a mathematical model or system (numerical or otherwise) can be divided and allocated to different sources of uncertainty in its inputs.\" [Wikipedia](https://en.wikipedia.org/wiki/Sensitivity_analysis)."
   ]
  },
  {
   "cell_type": "markdown",
   "metadata": {},
   "source": [
    "Let's do sensitivity analysis on the log_reg model, this involves changing each feature by multiple of itself, then scoring the model. <br>\n",
    "The docstring is below."
   ]
  },
  {
   "cell_type": "code",
   "execution_count": 671,
   "metadata": {},
   "outputs": [
    {
     "name": "stdout",
     "output_type": "stream",
     "text": [
      "Help on function sensitivity_analysis in module py_utils:\n",
      "\n",
      "sensitivity_analysis(sens_voi, X_test, y_test, model, multiplier=1.1, scoring_func=<function roc_auc_score at 0x1a209da158>)\n",
      "    This function runs a sensitivity analysis by taking a model then modifying its feature vector in a univariate fashion.\n",
      "    Following this, a scoring function is applied.\n",
      "    When all features are ran through then a summary dataframe is returned.\n",
      "    \n",
      "    Example:\n",
      "    Let's say you have a model called log_reg, you want to do sensitivity analysis on all features in a feature vector called X_train.\n",
      "    You also want to multiply each feature by 1.1 and use roc_auc as your scoring metric.\n",
      "    \n",
      "    py_utils.sensitivity_analysis(\n",
      "        sens_voi = X_train.columns, X_test = X_test, y_test = y_test, model = log_reg, multiplier = 1.1,  scoring_func = sklearn.metrics.roc_auc_score\n",
      "        )\n",
      "        \n",
      "    Args:\n",
      "    sens_voi (list): Sensitivitiy analysis features of interest.\n",
      "    X_test (pd.DataFrame): the feature vector used for scoring.\n",
      "    y_test (pd.Series): the target used for scoring.\n",
      "    model (sklearn.estimator): the model you want to conduct sensitivity analysis on.\n",
      "    multipler (float, int): the number that each feature is multiplied by.\n",
      "    scoring_func (function): the sklearn scoring function you want to use e.g. sklearn.metrics.accuracy_score\n",
      "    \n",
      "    Returns:\n",
      "    sens_df (pd.DataFrame): summary DataFrame showing sensitivity analysis results.\n",
      "\n"
     ]
    }
   ],
   "source": [
    "help(py_utils.sensitivity_analysis)"
   ]
  },
  {
   "cell_type": "markdown",
   "metadata": {},
   "source": [
    "The sensitvitiy analysis returns a DataFrame which has a summary of the analysis, we can also change our scoring function, but here I will roc_auc as this was the metric used for training."
   ]
  },
  {
   "cell_type": "code",
   "execution_count": 672,
   "metadata": {},
   "outputs": [
    {
     "data": {
      "text/html": [
       "<div>\n",
       "<style scoped>\n",
       "    .dataframe tbody tr th:only-of-type {\n",
       "        vertical-align: middle;\n",
       "    }\n",
       "\n",
       "    .dataframe tbody tr th {\n",
       "        vertical-align: top;\n",
       "    }\n",
       "\n",
       "    .dataframe thead th {\n",
       "        text-align: right;\n",
       "    }\n",
       "</style>\n",
       "<table border=\"1\" class=\"dataframe\">\n",
       "  <thead>\n",
       "    <tr style=\"text-align: right;\">\n",
       "      <th></th>\n",
       "      <th>Feature multiplied by 1.5</th>\n",
       "      <th>Sensitivity roc_auc_score</th>\n",
       "    </tr>\n",
       "  </thead>\n",
       "  <tbody>\n",
       "    <tr>\n",
       "      <th>0</th>\n",
       "      <td>0</td>\n",
       "      <td>0.964411</td>\n",
       "    </tr>\n",
       "    <tr>\n",
       "      <th>1</th>\n",
       "      <td>1</td>\n",
       "      <td>0.964410</td>\n",
       "    </tr>\n",
       "    <tr>\n",
       "      <th>2</th>\n",
       "      <td>2</td>\n",
       "      <td>0.964405</td>\n",
       "    </tr>\n",
       "    <tr>\n",
       "      <th>3</th>\n",
       "      <td>3</td>\n",
       "      <td>0.964412</td>\n",
       "    </tr>\n",
       "    <tr>\n",
       "      <th>4</th>\n",
       "      <td>4</td>\n",
       "      <td>0.964405</td>\n",
       "    </tr>\n",
       "    <tr>\n",
       "      <th>5</th>\n",
       "      <td>5</td>\n",
       "      <td>0.964409</td>\n",
       "    </tr>\n",
       "    <tr>\n",
       "      <th>6</th>\n",
       "      <td>6</td>\n",
       "      <td>0.964396</td>\n",
       "    </tr>\n",
       "    <tr>\n",
       "      <th>7</th>\n",
       "      <td>7</td>\n",
       "      <td>0.964411</td>\n",
       "    </tr>\n",
       "    <tr>\n",
       "      <th>8</th>\n",
       "      <td>8</td>\n",
       "      <td>0.964410</td>\n",
       "    </tr>\n",
       "    <tr>\n",
       "      <th>9</th>\n",
       "      <td>9</td>\n",
       "      <td>0.964409</td>\n",
       "    </tr>\n",
       "    <tr>\n",
       "      <th>10</th>\n",
       "      <td>10</td>\n",
       "      <td>0.964403</td>\n",
       "    </tr>\n",
       "    <tr>\n",
       "      <th>11</th>\n",
       "      <td>11</td>\n",
       "      <td>0.964413</td>\n",
       "    </tr>\n",
       "    <tr>\n",
       "      <th>12</th>\n",
       "      <td>12</td>\n",
       "      <td>0.964379</td>\n",
       "    </tr>\n",
       "    <tr>\n",
       "      <th>13</th>\n",
       "      <td>13</td>\n",
       "      <td>0.964407</td>\n",
       "    </tr>\n",
       "    <tr>\n",
       "      <th>14</th>\n",
       "      <td>14</td>\n",
       "      <td>0.964410</td>\n",
       "    </tr>\n",
       "    <tr>\n",
       "      <th>15</th>\n",
       "      <td>15</td>\n",
       "      <td>0.964410</td>\n",
       "    </tr>\n",
       "    <tr>\n",
       "      <th>16</th>\n",
       "      <td>16</td>\n",
       "      <td>0.964412</td>\n",
       "    </tr>\n",
       "    <tr>\n",
       "      <th>17</th>\n",
       "      <td>17</td>\n",
       "      <td>0.964411</td>\n",
       "    </tr>\n",
       "    <tr>\n",
       "      <th>18</th>\n",
       "      <td>18</td>\n",
       "      <td>0.964403</td>\n",
       "    </tr>\n",
       "    <tr>\n",
       "      <th>19</th>\n",
       "      <td>19</td>\n",
       "      <td>0.964441</td>\n",
       "    </tr>\n",
       "    <tr>\n",
       "      <th>20</th>\n",
       "      <td>20</td>\n",
       "      <td>0.964409</td>\n",
       "    </tr>\n",
       "    <tr>\n",
       "      <th>21</th>\n",
       "      <td>21</td>\n",
       "      <td>0.964409</td>\n",
       "    </tr>\n",
       "    <tr>\n",
       "      <th>22</th>\n",
       "      <td>22</td>\n",
       "      <td>0.964413</td>\n",
       "    </tr>\n",
       "    <tr>\n",
       "      <th>23</th>\n",
       "      <td>23</td>\n",
       "      <td>0.964408</td>\n",
       "    </tr>\n",
       "    <tr>\n",
       "      <th>24</th>\n",
       "      <td>24</td>\n",
       "      <td>0.964391</td>\n",
       "    </tr>\n",
       "    <tr>\n",
       "      <th>25</th>\n",
       "      <td>25</td>\n",
       "      <td>0.964407</td>\n",
       "    </tr>\n",
       "    <tr>\n",
       "      <th>26</th>\n",
       "      <td>26</td>\n",
       "      <td>0.964412</td>\n",
       "    </tr>\n",
       "    <tr>\n",
       "      <th>27</th>\n",
       "      <td>27</td>\n",
       "      <td>0.964408</td>\n",
       "    </tr>\n",
       "    <tr>\n",
       "      <th>28</th>\n",
       "      <td>28</td>\n",
       "      <td>0.964408</td>\n",
       "    </tr>\n",
       "    <tr>\n",
       "      <th>29</th>\n",
       "      <td>29</td>\n",
       "      <td>0.964407</td>\n",
       "    </tr>\n",
       "    <tr>\n",
       "      <th>30</th>\n",
       "      <td>30</td>\n",
       "      <td>0.964410</td>\n",
       "    </tr>\n",
       "    <tr>\n",
       "      <th>31</th>\n",
       "      <td>31</td>\n",
       "      <td>0.964412</td>\n",
       "    </tr>\n",
       "    <tr>\n",
       "      <th>32</th>\n",
       "      <td>32</td>\n",
       "      <td>0.964410</td>\n",
       "    </tr>\n",
       "    <tr>\n",
       "      <th>33</th>\n",
       "      <td>33</td>\n",
       "      <td>0.964410</td>\n",
       "    </tr>\n",
       "    <tr>\n",
       "      <th>34</th>\n",
       "      <td>34</td>\n",
       "      <td>0.964408</td>\n",
       "    </tr>\n",
       "    <tr>\n",
       "      <th>35</th>\n",
       "      <td>35</td>\n",
       "      <td>0.964411</td>\n",
       "    </tr>\n",
       "    <tr>\n",
       "      <th>36</th>\n",
       "      <td>36</td>\n",
       "      <td>0.964411</td>\n",
       "    </tr>\n",
       "    <tr>\n",
       "      <th>37</th>\n",
       "      <td>37</td>\n",
       "      <td>0.964388</td>\n",
       "    </tr>\n",
       "    <tr>\n",
       "      <th>38</th>\n",
       "      <td>38</td>\n",
       "      <td>0.964410</td>\n",
       "    </tr>\n",
       "    <tr>\n",
       "      <th>39</th>\n",
       "      <td>39</td>\n",
       "      <td>0.964401</td>\n",
       "    </tr>\n",
       "    <tr>\n",
       "      <th>40</th>\n",
       "      <td>40</td>\n",
       "      <td>0.964402</td>\n",
       "    </tr>\n",
       "    <tr>\n",
       "      <th>41</th>\n",
       "      <td>41</td>\n",
       "      <td>0.964411</td>\n",
       "    </tr>\n",
       "    <tr>\n",
       "      <th>42</th>\n",
       "      <td>42</td>\n",
       "      <td>0.964411</td>\n",
       "    </tr>\n",
       "    <tr>\n",
       "      <th>43</th>\n",
       "      <td>43</td>\n",
       "      <td>0.964410</td>\n",
       "    </tr>\n",
       "    <tr>\n",
       "      <th>44</th>\n",
       "      <td>44</td>\n",
       "      <td>0.964408</td>\n",
       "    </tr>\n",
       "    <tr>\n",
       "      <th>45</th>\n",
       "      <td>45</td>\n",
       "      <td>0.964404</td>\n",
       "    </tr>\n",
       "    <tr>\n",
       "      <th>46</th>\n",
       "      <td>46</td>\n",
       "      <td>0.964407</td>\n",
       "    </tr>\n",
       "    <tr>\n",
       "      <th>47</th>\n",
       "      <td>47</td>\n",
       "      <td>0.964410</td>\n",
       "    </tr>\n",
       "    <tr>\n",
       "      <th>48</th>\n",
       "      <td>48</td>\n",
       "      <td>0.962471</td>\n",
       "    </tr>\n",
       "    <tr>\n",
       "      <th>49</th>\n",
       "      <td>49</td>\n",
       "      <td>0.962316</td>\n",
       "    </tr>\n",
       "  </tbody>\n",
       "</table>\n",
       "</div>"
      ],
      "text/plain": [
       "    Feature multiplied by 1.5  Sensitivity roc_auc_score\n",
       "0                           0                   0.964411\n",
       "1                           1                   0.964410\n",
       "2                           2                   0.964405\n",
       "3                           3                   0.964412\n",
       "4                           4                   0.964405\n",
       "5                           5                   0.964409\n",
       "6                           6                   0.964396\n",
       "7                           7                   0.964411\n",
       "8                           8                   0.964410\n",
       "9                           9                   0.964409\n",
       "10                         10                   0.964403\n",
       "11                         11                   0.964413\n",
       "12                         12                   0.964379\n",
       "13                         13                   0.964407\n",
       "14                         14                   0.964410\n",
       "15                         15                   0.964410\n",
       "16                         16                   0.964412\n",
       "17                         17                   0.964411\n",
       "18                         18                   0.964403\n",
       "19                         19                   0.964441\n",
       "20                         20                   0.964409\n",
       "21                         21                   0.964409\n",
       "22                         22                   0.964413\n",
       "23                         23                   0.964408\n",
       "24                         24                   0.964391\n",
       "25                         25                   0.964407\n",
       "26                         26                   0.964412\n",
       "27                         27                   0.964408\n",
       "28                         28                   0.964408\n",
       "29                         29                   0.964407\n",
       "30                         30                   0.964410\n",
       "31                         31                   0.964412\n",
       "32                         32                   0.964410\n",
       "33                         33                   0.964410\n",
       "34                         34                   0.964408\n",
       "35                         35                   0.964411\n",
       "36                         36                   0.964411\n",
       "37                         37                   0.964388\n",
       "38                         38                   0.964410\n",
       "39                         39                   0.964401\n",
       "40                         40                   0.964402\n",
       "41                         41                   0.964411\n",
       "42                         42                   0.964411\n",
       "43                         43                   0.964410\n",
       "44                         44                   0.964408\n",
       "45                         45                   0.964404\n",
       "46                         46                   0.964407\n",
       "47                         47                   0.964410\n",
       "48                         48                   0.962471\n",
       "49                         49                   0.962316"
      ]
     },
     "execution_count": 672,
     "metadata": {},
     "output_type": "execute_result"
    }
   ],
   "source": [
    "sens_example = py_utils.sensitivity_analysis(X_train, X_test, y_test, logreg, 1.5, sklearn.metrics.roc_auc_score)\n",
    "sens_example"
   ]
  },
  {
   "cell_type": "markdown",
   "metadata": {},
   "source": [
    "We can see above that the scores are quite stable. <br>\n",
    "A distribution is available below."
   ]
  },
  {
   "cell_type": "code",
   "execution_count": 673,
   "metadata": {},
   "outputs": [
    {
     "data": {
      "text/plain": [
       "[Text(0.5, 1.0, 'Sensitivity distribution')]"
      ]
     },
     "execution_count": 673,
     "metadata": {},
     "output_type": "execute_result"
    },
    {
     "data": {
      "image/png": "[encoded data removed]",
      "text/plain": [
       "<Figure size 432x288 with 1 Axes>"
      ]
     },
     "metadata": {
      "needs_background": "light"
     },
     "output_type": "display_data"
    }
   ],
   "source": [
    "sns.distplot(sens_example.iloc[:,-1]).set(title = 'Sensitivity distribution')"
   ]
  }
 ],
 "metadata": {
  "kernelspec": {
   "display_name": "Python [conda env:Default]",
   "language": "python",
   "name": "conda-env-Default-py"
  },
  "language_info": {
   "codemirror_mode": {
    "name": "ipython",
    "version": 3
   },
   "file_extension": ".py",
   "mimetype": "text/x-python",
   "name": "python",
   "nbconvert_exporter": "python",
   "pygments_lexer": "ipython3",
   "version": "3.6.8"
  }
 },
 "nbformat": 4,
 "nbformat_minor": 4
}
